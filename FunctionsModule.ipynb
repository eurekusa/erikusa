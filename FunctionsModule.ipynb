{
 "cells": [
  {
   "cell_type": "code",
   "execution_count": 18,
   "id": "3dede4cb",
   "metadata": {},
   "outputs": [],
   "source": [
    "#CAGR \n",
    "    \n",
    "def CAGR_function(firstYear, lastYear, nbYears):\n",
    "    if((firstYear==0)or(lastYear<0)):\n",
    "            x=0\n",
    "    else:\n",
    "        x=((lastYear/firstYear)**(1/nbYears))-1\n",
    "    return x"
   ]
  },
  {
   "cell_type": "code",
   "execution_count": 19,
   "id": "6179ee21",
   "metadata": {},
   "outputs": [],
   "source": [
    "#calcul CAGR\n",
    "def CAGR_calculation(SV17,SV18,SV19,SV20,SV21):\n",
    "    #retrieve the SV=(sales value or sales volume) per year\n",
    "    CAGR_list=[SV17,SV18,SV19,SV20,SV21]\n",
    "    #convert the CAGR_list to a dataframe\n",
    "    CAGR_list=pd.DataFrame({'val':CAGR_list})\n",
    "    #fill the missing values with 0\n",
    "    CAGR_list = CAGR_list.fillna(\"0\")\n",
    "    #start with period =0\n",
    "    periods=0\n",
    "    #browse the CAGR_list\n",
    "    for i in range(len(CAGR_list)):\n",
    "        #retrive the SV of the lastYear\n",
    "        lastYear=float((CAGR_list.iloc[4,0]))\n",
    "        #increment the period +1\n",
    "        periods=periods+1\n",
    "        #if the first year not equal to 0, the value of the first year is retrieved \n",
    "        if(CAGR_list.iloc[i,0]!=\"0\"):\n",
    "            firstYear =float((CAGR_list.iloc[i,0]))\n",
    "            #for the period if the FY=2021 and LY=2017 so the nbYears =5, nbYears= (5 years - 1)+1\n",
    "            nbYears=(len(CAGR_list)-periods)+1\n",
    "            #compute the CAGR by using the CAGR_function\n",
    "            x=CAGR_function(firstYear, lastYear, nbYears)\n",
    "            return x\n",
    "        #break the function \n",
    "        break"
   ]
  },
  {
   "cell_type": "code",
   "execution_count": 20,
   "id": "645670ac",
   "metadata": {},
   "outputs": [],
   "source": [
    "#evolution from year to year\n",
    "def evol(firstYear, lastYear):\n",
    "    if((firstYear==0)):\n",
    "            x=0\n",
    "    else:\n",
    "        x=(lastYear-firstYear)/firstYear\n",
    "    return x"
   ]
  },
  {
   "cell_type": "code",
   "execution_count": 33,
   "id": "29ac0a35",
   "metadata": {},
   "outputs": [],
   "source": [
    " #marketshare \n",
    "def marketshare_calculation(SV17,SV18,SV19,SV20,SV21):\n",
    "    x=SV17+SV18+SV19+SV20+SV21\n",
    "    return x"
   ]
  },
  {
   "cell_type": "code",
   "execution_count": 34,
   "id": "b84fd973",
   "metadata": {},
   "outputs": [],
   "source": [
    "def initial_Values():\n",
    "    Value21=0\n",
    "    Value20=0\n",
    "    Value19=0\n",
    "    Value18=0\n",
    "    Value17=0\n",
    "    evolution21=0\n",
    "    evolution20=0\n",
    "    evolution19=0\n",
    "    evolution18=0\n",
    "    Volume21=0\n",
    "    Volume20=0\n",
    "    Volume19=0\n",
    "    Volume18=0\n",
    "    Volume17=0\n",
    "    evolutionVolume21=0\n",
    "    evolutionVolume20=0\n",
    "    evolutionVolume19=0\n",
    "    evolutionVolume18=0\n",
    "    cagrValue=0\n",
    "    cagrVolume=0\n",
    "    marketshareValue=0\n",
    "    marketshareVolume=0\n"
   ]
  },
  {
   "cell_type": "code",
   "execution_count": 35,
   "id": "efbfaf6b",
   "metadata": {},
   "outputs": [],
   "source": [
    "def marketshareVolume_Class(country,globdfClass):\n",
    "    val=0\n",
    "    marketshare=0\n",
    "    listval=[]\n",
    "    for m in range(0,len(country)):            \n",
    "        data=globdfClass.loc[globdfClass['Country'] == country[m]]\n",
    "        total=data[\"total MS SVolume\"].sum()\n",
    "        #print(\"country\",country[m],\"total\",total)\n",
    "        for i in data.index: \n",
    "            val=data.loc[i,\"total MS SVolume\"]\n",
    "            #print(val)\n",
    "            marketshare=val/total\n",
    "            marketshare=\"{:.3%}\".format(marketshare)\n",
    "            #print(marketshare)\n",
    "            listval.append(marketshare)\n",
    "\n",
    "    globdfClass.insert(24, \"marketShare Volume\", listval)\n"
   ]
  },
  {
   "cell_type": "code",
   "execution_count": 36,
   "id": "c5dc8963",
   "metadata": {},
   "outputs": [],
   "source": [
    "def marketshareValue_Class(country,globdfClass):\n",
    "    val=0\n",
    "    marketshare=0\n",
    "    listval=[]\n",
    "    for m in range(0,len(country)):            \n",
    "        data=globdfClass.loc[globdfClass['Country'] == country[m]]\n",
    "        total=data[\"total MS SValue\"].sum()\n",
    "        #print(\"country\",country[m],\"total\",total)\n",
    "        for i in data.index: \n",
    "            val=data.loc[i,\"total MS SValue\"]\n",
    "            #print(val)\n",
    "            marketshare=val/total\n",
    "            marketshare=\"{:.3%}\".format(marketshare)\n",
    "            #print(marketshare)\n",
    "            listval.append(marketshare)\n",
    "\n",
    "    globdfClass.insert(13, \"marketShare Value\", listval)\n"
   ]
  },
  {
   "cell_type": "code",
   "execution_count": 37,
   "id": "55d92b0e",
   "metadata": {},
   "outputs": [],
   "source": [
    "def marketshareVolume_Molecule(country,globdfMolecule):\n",
    "    val=0\n",
    "    marketshare=0\n",
    "    listval=[]\n",
    "    for m in range(0,19):            \n",
    "        dataCL=globdfMolecule.loc[globdfMolecule['Country'] == country[m]]\n",
    "        for i in range(0,15):  \n",
    "            data=dataCL.loc[dataCL['class'] == Class[i]]\n",
    "            total=data[\"total MS SVolume\"].sum()\n",
    "            #print(\"country\",country[m],\"total\",total)\n",
    "            for i in data.index: \n",
    "                val=data.loc[i,\"total MS SVolume\"]\n",
    "                #print(val)\n",
    "                marketshare=val/total\n",
    "                marketshare=\"{:.3%}\".format(marketshare)\n",
    "                #print(marketshare)\n",
    "                listval.append(marketshare)\n",
    "    #print(len(listval))\n",
    "    globdfMolecule.insert(25, \"marketShare Volume\", listval)\n"
   ]
  },
  {
   "cell_type": "code",
   "execution_count": 38,
   "id": "40b85894",
   "metadata": {},
   "outputs": [],
   "source": [
    "def marketshareValue_Molecule(country,globdfMolecule):\n",
    "    val=0\n",
    "    marketshare=0\n",
    "    listval=[]\n",
    "    for m in range(0,19):            \n",
    "        dataCL=globdfMolecule.loc[globdfMolecule['Country'] == country[m]]\n",
    "        for i in range(0,15):  \n",
    "            data=dataCL.loc[dataCL['class'] == Class[i]]\n",
    "            total=data[\"total MS SValue\"].sum()\n",
    "            #print(\"country\",country[m],\"total\",total)\n",
    "            for i in data.index: \n",
    "                val=data.loc[i,\"total MS SValue\"]\n",
    "                #print(val)\n",
    "                marketshare=val/total\n",
    "                marketshare=\"{:.3%}\".format(marketshare)\n",
    "                #print(marketshare)\n",
    "                listval.append(marketshare)\n",
    "    #print(len(listval))\n",
    "    globdfMolecule.insert(14, \"marketShare Value\", listval)\n"
   ]
  },
  {
   "cell_type": "code",
   "execution_count": null,
   "id": "6ce93653",
   "metadata": {},
   "outputs": [],
   "source": []
  },
  {
   "cell_type": "code",
   "execution_count": null,
   "id": "38ec924d",
   "metadata": {},
   "outputs": [],
   "source": []
  }
 ],
 "metadata": {
  "kernelspec": {
   "display_name": "Python 3 (ipykernel)",
   "language": "python",
   "name": "python3"
  },
  "language_info": {
   "codemirror_mode": {
    "name": "ipython",
    "version": 3
   },
   "file_extension": ".py",
   "mimetype": "text/x-python",
   "name": "python",
   "nbconvert_exporter": "python",
   "pygments_lexer": "ipython3",
   "version": "3.9.6"
  }
 },
 "nbformat": 4,
 "nbformat_minor": 5
}
